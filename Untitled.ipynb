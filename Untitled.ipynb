{
 "cells": [
  {
   "cell_type": "markdown",
   "id": "106999d2-039f-477a-9674-1ec6743a8c99",
   "metadata": {},
   "source": [
    "\n",
    "```html\n",
    " \n",
    "    <h2 style=\"text-align: center; color: green;\">\n",
    "      Welcome To GFG\n",
    "      </h2>\n",
    "    <marquee> Lets Move this text.</marquee>\n",
    "    <marquee direction=\"right\" behavior=\"alternate\"\n",
    "             style=\"border:BLACK 2px SOLID\">\n",
    "        Geeks for Geeks\n",
    "    </marquee>\n"
   ]
  },
  {
   "cell_type": "code",
   "execution_count": null,
   "id": "7c56cece-ae4e-4b37-9c18-8ec1ee912a81",
   "metadata": {},
   "outputs": [],
   "source": []
  },
  {
   "cell_type": "code",
   "execution_count": null,
   "id": "8c800e75-c1e5-46a4-b9fb-68bf43c40bbc",
   "metadata": {},
   "outputs": [],
   "source": []
  }
 ],
 "metadata": {
  "kernelspec": {
   "display_name": "",
   "name": ""
  },
  "language_info": {
   "name": ""
  }
 },
 "nbformat": 4,
 "nbformat_minor": 5
}
